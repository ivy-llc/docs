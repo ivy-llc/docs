{
 "cells": [
  {
   "cell_type": "code",
   "execution_count": null,
   "metadata": {},
   "outputs": [],
   "source": [
    "!pip install -q kornia"
   ]
  },
  {
   "cell_type": "code",
   "execution_count": null,
   "metadata": {},
   "outputs": [],
   "source": [
    "import ivy\n",
    "import tensorflow as tf\n",
    "import kornia"
   ]
  },
  {
   "cell_type": "code",
   "execution_count": null,
   "metadata": {},
   "outputs": [],
   "source": [
    "TranspiledQuaternion = ivy.transpile(kornia.geometry.quaternion.Quaternion, source=\"torch\", target=\"tensorflow\")\n",
    "TranspiledSo3 = ivy.transpile(kornia.geometry.liegroup.So3, source=\"torch\", target=\"tensorflow\")\n",
    "\n",
    "quaternion_data = tf.convert_to_tensor([1., 0., 0., 0.])\n",
    "transpiled_quaternion = TranspiledQuaternion(quaternion_data)\n",
    "transpiled_so3 = TranspiledSo3(transpiled_quaternion)"
   ]
  }
 ],
 "metadata": {
  "kernelspec": {
   "display_name": "Python 3",
   "language": "python",
   "name": "python3"
  },
  "language_info": {
   "name": "python",
   "version": "3.10.14"
  }
 },
 "nbformat": 4,
 "nbformat_minor": 2
}
